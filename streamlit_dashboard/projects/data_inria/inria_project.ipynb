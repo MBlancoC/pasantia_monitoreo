{
 "cells": [
  {
   "cell_type": "code",
   "execution_count": 1,
   "metadata": {},
   "outputs": [],
   "source": [
    "import io\n",
    "import numpy as np\n",
    "import os\n",
    "import pandas as pd\n",
    "from pathlib import Path\n",
    "import requests\n",
    "import zipfile\n",
    "\n",
    "from datetime import datetime\n",
    "from sklearn import datasets, ensemble\n",
    "\n",
    "from evidently.pipeline.column_mapping import ColumnMapping\n",
    "from evidently.report import Report\n",
    "from evidently.metric_preset import DataDriftPreset\n",
    "from evidently.metric_preset import TargetDriftPreset\n",
    "from evidently.metric_preset import DataQualityPreset\n",
    "from evidently.metric_preset.regression_performance import RegressionPreset\n",
    "\n",
    "from evidently.metrics import (\n",
    "    RegressionQualityMetric,\n",
    "    RegressionPredictedVsActualScatter,\n",
    "    RegressionPredictedVsActualPlot,\n",
    "    RegressionErrorPlot,\n",
    "    RegressionAbsPercentageErrorPlot,\n",
    "    RegressionErrorDistribution,\n",
    "    RegressionErrorNormality,\n",
    "    RegressionTopErrorMetric,\n",
    "    RegressionErrorBiasTable,\n",
    "\n",
    "    DatasetSummaryMetric,\n",
    "    ColumnSummaryMetric,\n",
    "    DatasetMissingValuesMetric,\n",
    "    DatasetCorrelationsMetric\n",
    ")"
   ]
  },
  {
   "cell_type": "code",
   "execution_count": 2,
   "id": "8012467e",
   "metadata": {},
   "outputs": [],
   "source": [
    "raw_data = pd.read_csv('data/data4.csv',sep=',',parse_dates=['time'],index_col='time')"
   ]
  },
  {
   "cell_type": "code",
   "execution_count": 3,
   "id": "0e81bb7c",
   "metadata": {},
   "outputs": [
    {
     "data": {
      "text/html": [
       "<div>\n",
       "<style scoped>\n",
       "    .dataframe tbody tr th:only-of-type {\n",
       "        vertical-align: middle;\n",
       "    }\n",
       "\n",
       "    .dataframe tbody tr th {\n",
       "        vertical-align: top;\n",
       "    }\n",
       "\n",
       "    .dataframe thead th {\n",
       "        text-align: right;\n",
       "    }\n",
       "</style>\n",
       "<table border=\"1\" class=\"dataframe\">\n",
       "  <thead>\n",
       "    <tr style=\"text-align: right;\">\n",
       "      <th></th>\n",
       "      <th>sensor1_air_hum</th>\n",
       "      <th>sensor1_air_temp</th>\n",
       "      <th>sensor2_air_hum</th>\n",
       "      <th>sensor2_air_temp</th>\n",
       "      <th>agromet_main_air_temp1</th>\n",
       "      <th>agromet_main_air_temp2</th>\n",
       "    </tr>\n",
       "    <tr>\n",
       "      <th>time</th>\n",
       "      <th></th>\n",
       "      <th></th>\n",
       "      <th></th>\n",
       "      <th></th>\n",
       "      <th></th>\n",
       "      <th></th>\n",
       "    </tr>\n",
       "  </thead>\n",
       "  <tbody>\n",
       "    <tr>\n",
       "      <th>2022-10-01 00:00:00</th>\n",
       "      <td>77.947</td>\n",
       "      <td>15.193</td>\n",
       "      <td>80.198</td>\n",
       "      <td>15.041</td>\n",
       "      <td>12.100000</td>\n",
       "      <td>14.400000</td>\n",
       "    </tr>\n",
       "    <tr>\n",
       "      <th>2022-10-01 00:10:00</th>\n",
       "      <td>79.257</td>\n",
       "      <td>14.939</td>\n",
       "      <td>80.963</td>\n",
       "      <td>14.843</td>\n",
       "      <td>11.933333</td>\n",
       "      <td>14.316667</td>\n",
       "    </tr>\n",
       "    <tr>\n",
       "      <th>2022-10-01 00:20:00</th>\n",
       "      <td>80.140</td>\n",
       "      <td>14.787</td>\n",
       "      <td>81.747</td>\n",
       "      <td>14.646</td>\n",
       "      <td>11.766667</td>\n",
       "      <td>14.233333</td>\n",
       "    </tr>\n",
       "    <tr>\n",
       "      <th>2022-10-01 00:30:00</th>\n",
       "      <td>80.908</td>\n",
       "      <td>14.560</td>\n",
       "      <td>82.914</td>\n",
       "      <td>14.360</td>\n",
       "      <td>11.600000</td>\n",
       "      <td>14.150000</td>\n",
       "    </tr>\n",
       "    <tr>\n",
       "      <th>2022-10-01 00:40:00</th>\n",
       "      <td>80.258</td>\n",
       "      <td>14.814</td>\n",
       "      <td>82.415</td>\n",
       "      <td>14.491</td>\n",
       "      <td>11.433333</td>\n",
       "      <td>14.066667</td>\n",
       "    </tr>\n",
       "  </tbody>\n",
       "</table>\n",
       "</div>"
      ],
      "text/plain": [
       "                     sensor1_air_hum  sensor1_air_temp  sensor2_air_hum  \\\n",
       "time                                                                      \n",
       "2022-10-01 00:00:00           77.947            15.193           80.198   \n",
       "2022-10-01 00:10:00           79.257            14.939           80.963   \n",
       "2022-10-01 00:20:00           80.140            14.787           81.747   \n",
       "2022-10-01 00:30:00           80.908            14.560           82.914   \n",
       "2022-10-01 00:40:00           80.258            14.814           82.415   \n",
       "\n",
       "                     sensor2_air_temp  agromet_main_air_temp1  \\\n",
       "time                                                            \n",
       "2022-10-01 00:00:00            15.041               12.100000   \n",
       "2022-10-01 00:10:00            14.843               11.933333   \n",
       "2022-10-01 00:20:00            14.646               11.766667   \n",
       "2022-10-01 00:30:00            14.360               11.600000   \n",
       "2022-10-01 00:40:00            14.491               11.433333   \n",
       "\n",
       "                     agromet_main_air_temp2  \n",
       "time                                         \n",
       "2022-10-01 00:00:00               14.400000  \n",
       "2022-10-01 00:10:00               14.316667  \n",
       "2022-10-01 00:20:00               14.233333  \n",
       "2022-10-01 00:30:00               14.150000  \n",
       "2022-10-01 00:40:00               14.066667  "
      ]
     },
     "execution_count": 3,
     "metadata": {},
     "output_type": "execute_result"
    }
   ],
   "source": [
    "raw_data.head()"
   ]
  },
  {
   "cell_type": "code",
   "execution_count": 4,
   "id": "a267eace",
   "metadata": {},
   "outputs": [
    {
     "name": "stdout",
     "output_type": "stream",
     "text": [
      "days = 3359; weeks = 479.85714285714283\n"
     ]
    }
   ],
   "source": [
    "# Get weeks number\n",
    "days = len(raw_data.index.unique())\n",
    "weeks = days / 7\n",
    "\n",
    "print(f'days = {days}; weeks = {weeks}')"
   ]
  },
  {
   "cell_type": "code",
   "execution_count": 5,
   "id": "620a6c88",
   "metadata": {},
   "outputs": [
    {
     "data": {
      "text/plain": [
       "Timestamp('2022-10-01 00:00:00')"
      ]
     },
     "execution_count": 5,
     "metadata": {},
     "output_type": "execute_result"
    }
   ],
   "source": [
    "raw_data.index[0]"
   ]
  },
  {
   "cell_type": "code",
   "execution_count": 6,
   "id": "4b98cb0c",
   "metadata": {},
   "outputs": [
    {
     "data": {
      "text/plain": [
       "Timestamp('2022-10-31 10:00:00')"
      ]
     },
     "execution_count": 6,
     "metadata": {},
     "output_type": "execute_result"
    }
   ],
   "source": [
    "raw_data.index[-1]"
   ]
  },
  {
   "cell_type": "code",
   "execution_count": 7,
   "id": "7ca565ec",
   "metadata": {},
   "outputs": [
    {
     "data": {
      "text/plain": [
       "Index(['sensor1_air_hum', 'sensor1_air_temp', 'sensor2_air_hum',\n",
       "       'sensor2_air_temp', 'agromet_main_air_temp1', 'agromet_main_air_temp2'],\n",
       "      dtype='object')"
      ]
     },
     "execution_count": 7,
     "metadata": {},
     "output_type": "execute_result"
    }
   ],
   "source": [
    "raw_data.columns"
   ]
  },
  {
   "cell_type": "code",
   "execution_count": 8,
   "id": "7f5d5561",
   "metadata": {},
   "outputs": [],
   "source": [
    "REF_TIME_START = '2022-10-01 00:00:00'\n",
    "REF_TIME_END = '2022-10-15 00:00:00'\n",
    "\n",
    "CURRENT_TIME_START = '2022-10-16 00:00:00'\n",
    "CURRENT_TIME_END = '2022-10-31 00:00:00'\n",
    "\n",
    "target = \"sensor1_air_temp\"\n",
    "prediction = \"prediction\"\n",
    "numerical_features = ['sensor1_air_hum', 'sensor1_air_temp', 'sensor2_air_hum',\n",
    "       'sensor2_air_temp', 'agromet_main_air_temp1', 'agromet_main_air_temp2']\n",
    "\n",
    "reports_dir = Path('reports') / f\"{CURRENT_TIME_START}_{CURRENT_TIME_END}\"\n",
    "reports_dir.mkdir(exist_ok=True)"
   ]
  },
  {
   "cell_type": "code",
   "execution_count": 9,
   "id": "f1b5e766",
   "metadata": {},
   "outputs": [],
   "source": [
    "reference = raw_data.loc[REF_TIME_START:REF_TIME_END]\n",
    "current = raw_data.loc[CURRENT_TIME_START:CURRENT_TIME_END]"
   ]
  },
  {
   "cell_type": "code",
   "execution_count": 10,
   "id": "a510fe4c",
   "metadata": {},
   "outputs": [
    {
     "data": {
      "text/html": [
       "<div>\n",
       "<style scoped>\n",
       "    .dataframe tbody tr th:only-of-type {\n",
       "        vertical-align: middle;\n",
       "    }\n",
       "\n",
       "    .dataframe tbody tr th {\n",
       "        vertical-align: top;\n",
       "    }\n",
       "\n",
       "    .dataframe thead th {\n",
       "        text-align: right;\n",
       "    }\n",
       "</style>\n",
       "<table border=\"1\" class=\"dataframe\">\n",
       "  <thead>\n",
       "    <tr style=\"text-align: right;\">\n",
       "      <th></th>\n",
       "      <th>sensor1_air_hum</th>\n",
       "      <th>sensor1_air_temp</th>\n",
       "      <th>sensor2_air_hum</th>\n",
       "      <th>sensor2_air_temp</th>\n",
       "      <th>agromet_main_air_temp1</th>\n",
       "      <th>agromet_main_air_temp2</th>\n",
       "    </tr>\n",
       "    <tr>\n",
       "      <th>time</th>\n",
       "      <th></th>\n",
       "      <th></th>\n",
       "      <th></th>\n",
       "      <th></th>\n",
       "      <th></th>\n",
       "      <th></th>\n",
       "    </tr>\n",
       "  </thead>\n",
       "  <tbody>\n",
       "    <tr>\n",
       "      <th>2022-10-01 00:00:00</th>\n",
       "      <td>77.947</td>\n",
       "      <td>15.193</td>\n",
       "      <td>80.198</td>\n",
       "      <td>15.041</td>\n",
       "      <td>12.100000</td>\n",
       "      <td>14.400000</td>\n",
       "    </tr>\n",
       "    <tr>\n",
       "      <th>2022-10-01 00:10:00</th>\n",
       "      <td>79.257</td>\n",
       "      <td>14.939</td>\n",
       "      <td>80.963</td>\n",
       "      <td>14.843</td>\n",
       "      <td>11.933333</td>\n",
       "      <td>14.316667</td>\n",
       "    </tr>\n",
       "    <tr>\n",
       "      <th>2022-10-01 00:20:00</th>\n",
       "      <td>80.140</td>\n",
       "      <td>14.787</td>\n",
       "      <td>81.747</td>\n",
       "      <td>14.646</td>\n",
       "      <td>11.766667</td>\n",
       "      <td>14.233333</td>\n",
       "    </tr>\n",
       "    <tr>\n",
       "      <th>2022-10-01 00:30:00</th>\n",
       "      <td>80.908</td>\n",
       "      <td>14.560</td>\n",
       "      <td>82.914</td>\n",
       "      <td>14.360</td>\n",
       "      <td>11.600000</td>\n",
       "      <td>14.150000</td>\n",
       "    </tr>\n",
       "    <tr>\n",
       "      <th>2022-10-01 00:40:00</th>\n",
       "      <td>80.258</td>\n",
       "      <td>14.814</td>\n",
       "      <td>82.415</td>\n",
       "      <td>14.491</td>\n",
       "      <td>11.433333</td>\n",
       "      <td>14.066667</td>\n",
       "    </tr>\n",
       "  </tbody>\n",
       "</table>\n",
       "</div>"
      ],
      "text/plain": [
       "                     sensor1_air_hum  sensor1_air_temp  sensor2_air_hum  \\\n",
       "time                                                                      \n",
       "2022-10-01 00:00:00           77.947            15.193           80.198   \n",
       "2022-10-01 00:10:00           79.257            14.939           80.963   \n",
       "2022-10-01 00:20:00           80.140            14.787           81.747   \n",
       "2022-10-01 00:30:00           80.908            14.560           82.914   \n",
       "2022-10-01 00:40:00           80.258            14.814           82.415   \n",
       "\n",
       "                     sensor2_air_temp  agromet_main_air_temp1  \\\n",
       "time                                                            \n",
       "2022-10-01 00:00:00            15.041               12.100000   \n",
       "2022-10-01 00:10:00            14.843               11.933333   \n",
       "2022-10-01 00:20:00            14.646               11.766667   \n",
       "2022-10-01 00:30:00            14.360               11.600000   \n",
       "2022-10-01 00:40:00            14.491               11.433333   \n",
       "\n",
       "                     agromet_main_air_temp2  \n",
       "time                                         \n",
       "2022-10-01 00:00:00               14.400000  \n",
       "2022-10-01 00:10:00               14.316667  \n",
       "2022-10-01 00:20:00               14.233333  \n",
       "2022-10-01 00:30:00               14.150000  \n",
       "2022-10-01 00:40:00               14.066667  "
      ]
     },
     "execution_count": 10,
     "metadata": {},
     "output_type": "execute_result"
    }
   ],
   "source": [
    "reference.head()"
   ]
  },
  {
   "cell_type": "code",
   "execution_count": 11,
   "id": "faf4b8df",
   "metadata": {},
   "outputs": [],
   "source": [
    "regressor = ensemble.RandomForestRegressor(random_state = 0, n_estimators = 50)"
   ]
  },
  {
   "cell_type": "code",
   "execution_count": 12,
   "id": "62513b27",
   "metadata": {},
   "outputs": [
    {
     "data": {
      "text/html": [
       "<style>#sk-container-id-1 {color: black;background-color: white;}#sk-container-id-1 pre{padding: 0;}#sk-container-id-1 div.sk-toggleable {background-color: white;}#sk-container-id-1 label.sk-toggleable__label {cursor: pointer;display: block;width: 100%;margin-bottom: 0;padding: 0.3em;box-sizing: border-box;text-align: center;}#sk-container-id-1 label.sk-toggleable__label-arrow:before {content: \"▸\";float: left;margin-right: 0.25em;color: #696969;}#sk-container-id-1 label.sk-toggleable__label-arrow:hover:before {color: black;}#sk-container-id-1 div.sk-estimator:hover label.sk-toggleable__label-arrow:before {color: black;}#sk-container-id-1 div.sk-toggleable__content {max-height: 0;max-width: 0;overflow: hidden;text-align: left;background-color: #f0f8ff;}#sk-container-id-1 div.sk-toggleable__content pre {margin: 0.2em;color: black;border-radius: 0.25em;background-color: #f0f8ff;}#sk-container-id-1 input.sk-toggleable__control:checked~div.sk-toggleable__content {max-height: 200px;max-width: 100%;overflow: auto;}#sk-container-id-1 input.sk-toggleable__control:checked~label.sk-toggleable__label-arrow:before {content: \"▾\";}#sk-container-id-1 div.sk-estimator input.sk-toggleable__control:checked~label.sk-toggleable__label {background-color: #d4ebff;}#sk-container-id-1 div.sk-label input.sk-toggleable__control:checked~label.sk-toggleable__label {background-color: #d4ebff;}#sk-container-id-1 input.sk-hidden--visually {border: 0;clip: rect(1px 1px 1px 1px);clip: rect(1px, 1px, 1px, 1px);height: 1px;margin: -1px;overflow: hidden;padding: 0;position: absolute;width: 1px;}#sk-container-id-1 div.sk-estimator {font-family: monospace;background-color: #f0f8ff;border: 1px dotted black;border-radius: 0.25em;box-sizing: border-box;margin-bottom: 0.5em;}#sk-container-id-1 div.sk-estimator:hover {background-color: #d4ebff;}#sk-container-id-1 div.sk-parallel-item::after {content: \"\";width: 100%;border-bottom: 1px solid gray;flex-grow: 1;}#sk-container-id-1 div.sk-label:hover label.sk-toggleable__label {background-color: #d4ebff;}#sk-container-id-1 div.sk-serial::before {content: \"\";position: absolute;border-left: 1px solid gray;box-sizing: border-box;top: 0;bottom: 0;left: 50%;z-index: 0;}#sk-container-id-1 div.sk-serial {display: flex;flex-direction: column;align-items: center;background-color: white;padding-right: 0.2em;padding-left: 0.2em;position: relative;}#sk-container-id-1 div.sk-item {position: relative;z-index: 1;}#sk-container-id-1 div.sk-parallel {display: flex;align-items: stretch;justify-content: center;background-color: white;position: relative;}#sk-container-id-1 div.sk-item::before, #sk-container-id-1 div.sk-parallel-item::before {content: \"\";position: absolute;border-left: 1px solid gray;box-sizing: border-box;top: 0;bottom: 0;left: 50%;z-index: -1;}#sk-container-id-1 div.sk-parallel-item {display: flex;flex-direction: column;z-index: 1;position: relative;background-color: white;}#sk-container-id-1 div.sk-parallel-item:first-child::after {align-self: flex-end;width: 50%;}#sk-container-id-1 div.sk-parallel-item:last-child::after {align-self: flex-start;width: 50%;}#sk-container-id-1 div.sk-parallel-item:only-child::after {width: 0;}#sk-container-id-1 div.sk-dashed-wrapped {border: 1px dashed gray;margin: 0 0.4em 0.5em 0.4em;box-sizing: border-box;padding-bottom: 0.4em;background-color: white;}#sk-container-id-1 div.sk-label label {font-family: monospace;font-weight: bold;display: inline-block;line-height: 1.2em;}#sk-container-id-1 div.sk-label-container {text-align: center;}#sk-container-id-1 div.sk-container {/* jupyter's `normalize.less` sets `[hidden] { display: none; }` but bootstrap.min.css set `[hidden] { display: none !important; }` so we also need the `!important` here to be able to override the default hidden behavior on the sphinx rendered scikit-learn.org. See: https://github.com/scikit-learn/scikit-learn/issues/21755 */display: inline-block !important;position: relative;}#sk-container-id-1 div.sk-text-repr-fallback {display: none;}</style><div id=\"sk-container-id-1\" class=\"sk-top-container\"><div class=\"sk-text-repr-fallback\"><pre>RandomForestRegressor(n_estimators=50, random_state=0)</pre><b>In a Jupyter environment, please rerun this cell to show the HTML representation or trust the notebook. <br />On GitHub, the HTML representation is unable to render, please try loading this page with nbviewer.org.</b></div><div class=\"sk-container\" hidden><div class=\"sk-item\"><div class=\"sk-estimator sk-toggleable\"><input class=\"sk-toggleable__control sk-hidden--visually\" id=\"sk-estimator-id-1\" type=\"checkbox\" checked><label for=\"sk-estimator-id-1\" class=\"sk-toggleable__label sk-toggleable__label-arrow\">RandomForestRegressor</label><div class=\"sk-toggleable__content\"><pre>RandomForestRegressor(n_estimators=50, random_state=0)</pre></div></div></div></div></div>"
      ],
      "text/plain": [
       "RandomForestRegressor(n_estimators=50, random_state=0)"
      ]
     },
     "execution_count": 12,
     "metadata": {},
     "output_type": "execute_result"
    }
   ],
   "source": [
    "regressor.fit(reference[numerical_features], reference[target])"
   ]
  },
  {
   "cell_type": "code",
   "execution_count": 13,
   "id": "622730bc",
   "metadata": {},
   "outputs": [],
   "source": [
    "ref_prediction = regressor.predict(reference[numerical_features])\n",
    "current_prediction = regressor.predict(current[numerical_features])"
   ]
  },
  {
   "cell_type": "code",
   "execution_count": 14,
   "id": "c97d4a60",
   "metadata": {},
   "outputs": [],
   "source": [
    "reference['prediction'] = ref_prediction\n",
    "current['prediction'] = current_prediction"
   ]
  },
  {
   "cell_type": "markdown",
   "id": "344a8a98",
   "metadata": {},
   "source": [
    "## DATA DRIFT"
   ]
  },
  {
   "cell_type": "code",
   "execution_count": 15,
   "id": "c3bfd34c",
   "metadata": {},
   "outputs": [],
   "source": [
    "column_mapping = ColumnMapping()\n",
    "column_mapping.numerical_features = numerical_features"
   ]
  },
  {
   "cell_type": "code",
   "execution_count": 16,
   "id": "a2fbe63c",
   "metadata": {},
   "outputs": [],
   "source": [
    "data_drift_report = Report(metrics=[DataDriftPreset()])\n",
    "data_drift_report.run(\n",
    "    reference_data=reference,\n",
    "    current_data=current.loc[CURRENT_TIME_START:CURRENT_TIME_END],\n",
    "    column_mapping=column_mapping\n",
    ")"
   ]
  },
  {
   "cell_type": "code",
   "execution_count": 17,
   "id": "89c0ed88",
   "metadata": {},
   "outputs": [],
   "source": [
    "data_drift_report_path = reports_dir / 'data_drift.html'\n",
    "data_drift_report.save_html(data_drift_report_path)"
   ]
  },
  {
   "cell_type": "markdown",
   "id": "2d84e5b5",
   "metadata": {},
   "source": [
    "## TARGET DRIFT"
   ]
  },
  {
   "cell_type": "code",
   "execution_count": 18,
   "id": "5c2e27b2",
   "metadata": {},
   "outputs": [],
   "source": [
    "target_drift_report = Report(metrics=[TargetDriftPreset()])\n",
    "target_drift_report.run(\n",
    "    reference_data=reference,\n",
    "    current_data=current.loc[CURRENT_TIME_START:CURRENT_TIME_END],\n",
    "    column_mapping=column_mapping\n",
    ")"
   ]
  },
  {
   "cell_type": "code",
   "execution_count": 19,
   "id": "dd4943e2",
   "metadata": {},
   "outputs": [],
   "source": [
    "target_drift_report_path = reports_dir / 'target_drift.html'\n",
    "target_drift_report.save_html(target_drift_report_path)"
   ]
  },
  {
   "cell_type": "markdown",
   "id": "fcab7d4d",
   "metadata": {},
   "source": [
    "## MODEL PERFORMANCE"
   ]
  },
  {
   "cell_type": "code",
   "execution_count": 20,
   "id": "f259671c",
   "metadata": {},
   "outputs": [],
   "source": [
    "column_mapping = ColumnMapping()\n",
    "\n",
    "column_mapping.target = target\n",
    "column_mapping.prediction = prediction\n",
    "column_mapping.numerical_features = numerical_features"
   ]
  },
  {
   "cell_type": "code",
   "execution_count": 21,
   "id": "89f9f287",
   "metadata": {},
   "outputs": [],
   "source": [
    "regression_performance_report = Report(metrics=[RegressionPreset()])\n",
    "\n",
    "regression_performance_report.run(\n",
    "    reference_data=reference,\n",
    "    current_data=current.loc[CURRENT_TIME_START:CURRENT_TIME_END],\n",
    "    column_mapping=column_mapping\n",
    ")"
   ]
  },
  {
   "cell_type": "code",
   "execution_count": 22,
   "id": "eb77b4e5",
   "metadata": {},
   "outputs": [],
   "source": [
    "model_performance_report_path = reports_dir / 'model_performance.html'\n",
    "regression_performance_report.save_html(model_performance_report_path)"
   ]
  },
  {
   "cell_type": "markdown",
   "id": "731a5b44",
   "metadata": {},
   "source": [
    "## DATA QUALITY"
   ]
  },
  {
   "cell_type": "code",
   "execution_count": 23,
   "id": "c54c42e1",
   "metadata": {},
   "outputs": [],
   "source": [
    "column_mapping = ColumnMapping()\n",
    "column_mapping.numerical_features = numerical_features"
   ]
  },
  {
   "cell_type": "code",
   "execution_count": 24,
   "id": "f22d2ebb",
   "metadata": {},
   "outputs": [
    {
     "name": "stderr",
     "output_type": "stream",
     "text": [
      "/Users/manuelblanco/.pyenv/versions/3.10.6/envs/model_deploy/lib/python3.10/site-packages/evidently/metrics/data_integrity/dataset_missing_values_metric.py:147: FutureWarning:\n",
      "\n",
      "elementwise comparison failed; returning scalar instead, but in the future will perform elementwise comparison\n",
      "\n"
     ]
    }
   ],
   "source": [
    "data_quality_report = Report(metrics=[DataQualityPreset()])\n",
    "data_quality_report.run(\n",
    "    reference_data=reference,\n",
    "    current_data=current.loc[CURRENT_TIME_START:CURRENT_TIME_END],\n",
    "    column_mapping=column_mapping\n",
    ")"
   ]
  },
  {
   "cell_type": "code",
   "execution_count": 25,
   "id": "f1acf295",
   "metadata": {},
   "outputs": [],
   "source": [
    "data_quality_report_path = reports_dir / 'data_quality.html'\n",
    "data_quality_report.save_html(data_quality_report_path)"
   ]
  },
  {
   "cell_type": "code",
   "execution_count": null,
   "id": "4fc3fc27",
   "metadata": {},
   "outputs": [],
   "source": []
  }
 ],
 "metadata": {
  "kernelspec": {
   "display_name": "model_deploy",
   "language": "python",
   "name": "python3"
  },
  "language_info": {
   "codemirror_mode": {
    "name": "ipython",
    "version": 3
   },
   "file_extension": ".py",
   "mimetype": "text/x-python",
   "name": "python",
   "nbconvert_exporter": "python",
   "pygments_lexer": "ipython3",
   "version": "3.10.6"
  }
 },
 "nbformat": 4,
 "nbformat_minor": 5
}
