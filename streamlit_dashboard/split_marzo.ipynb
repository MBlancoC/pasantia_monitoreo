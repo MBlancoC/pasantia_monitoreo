{
 "cells": [
  {
   "cell_type": "code",
   "execution_count": 1,
   "metadata": {},
   "outputs": [],
   "source": [
    "import pandas as pd"
   ]
  },
  {
   "cell_type": "code",
   "execution_count": 3,
   "metadata": {},
   "outputs": [],
   "source": [
    "csv = pd.read_csv(\"/home/mblanco/streamlit_dashboard/data4.csv\")"
   ]
  },
  {
   "cell_type": "code",
   "execution_count": 2,
   "metadata": {},
   "outputs": [
    {
     "ename": "SyntaxError",
     "evalue": "invalid syntax (4047307642.py, line 2)",
     "output_type": "error",
     "traceback": [
      "\u001b[0;36m  Cell \u001b[0;32mIn[2], line 2\u001b[0;36m\u001b[0m\n\u001b[0;31m    csv[]\u001b[0m\n\u001b[0m        ^\u001b[0m\n\u001b[0;31mSyntaxError\u001b[0m\u001b[0;31m:\u001b[0m invalid syntax\n"
     ]
    }
   ],
   "source": [
    "csv.head()\n",
    "csv.rename(columns={'time': 'timestamp'}, inplace=True)"
   ]
  },
  {
   "cell_type": "markdown",
   "metadata": {},
   "source": []
  },
  {
   "cell_type": "code",
   "execution_count": 5,
   "metadata": {},
   "outputs": [],
   "source": [
    "import pandas as pd\n",
    "\n",
    "# Leer el archivo CSV\n",
    "csv = pd.read_csv(\"/home/mblanco/streamlit_dashboard/data4.csv\")\n",
    "\n",
    "# Dividir el conjunto de datos en 30% y 70%\n",
    "# Utilizaremos la función `sample` de pandas para seleccionar aleatoriamente las filas\n",
    "# `frac` especifica la fracción de las filas a seleccionar\n",
    "# `random_state` se utiliza para que la división sea reproducible\n",
    "parte_30 = csv.sample(frac=0.3, random_state=42)\n",
    "parte_70 = csv.drop(parte_30.index)\n",
    "\n",
    "# Guardar los nuevos conjuntos de datos en archivos CSV\n",
    "parte_30.to_csv(\"/home/mblanco/streamlit_dashboard/data4_parte_30.csv\", index=False)\n",
    "parte_70.to_csv(\"/home/mblanco/streamlit_dashboard/data4_parte_70.csv\", index=False)\n"
   ]
  },
  {
   "cell_type": "code",
   "execution_count": null,
   "metadata": {},
   "outputs": [],
   "source": []
  }
 ],
 "metadata": {
  "kernelspec": {
   "display_name": "Python 3",
   "language": "python",
   "name": "python3"
  },
  "language_info": {
   "codemirror_mode": {
    "name": "ipython",
    "version": 3
   },
   "file_extension": ".py",
   "mimetype": "text/x-python",
   "name": "python",
   "nbconvert_exporter": "python",
   "pygments_lexer": "ipython3",
   "version": "3.10.12"
  }
 },
 "nbformat": 4,
 "nbformat_minor": 2
}
